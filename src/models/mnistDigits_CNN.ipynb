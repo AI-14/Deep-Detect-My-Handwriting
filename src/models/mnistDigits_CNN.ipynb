{
 "cells": [
  {
   "cell_type": "markdown",
   "metadata": {},
   "source": [
    "# Mnist Handwritten Digits (CNN)\n",
    "In this notebook, we will use CNNs."
   ]
  },
  {
   "cell_type": "markdown",
   "metadata": {},
   "source": [
    "## Loading Libraries"
   ]
  },
  {
   "cell_type": "code",
   "execution_count": 7,
   "metadata": {},
   "outputs": [],
   "source": [
    "from keras.datasets import mnist\n",
    "from keras.models import Sequential\n",
    "from keras.layers import Dense, Conv2D, MaxPooling2D, Dropout, Flatten  \n",
    "from sklearn.model_selection import train_test_split\n",
    "import numpy as np"
   ]
  },
  {
   "cell_type": "code",
   "execution_count": 8,
   "metadata": {},
   "outputs": [
    {
     "name": "stdout",
     "output_type": "stream",
     "text": [
      "x_train shape = (60000, 28, 28)\n",
      "x_test shape = (10000, 28, 28)\n",
      "y_train shape = (60000,)\n",
      "y_test shape = (10000,)\n"
     ]
    }
   ],
   "source": [
    "(x_train, y_train) , (x_test, y_test) = mnist.load_data()\n",
    "print(f'x_train shape = {x_train.shape}\\nx_test shape = {x_test.shape}\\ny_train shape = {y_train.shape}\\ny_test shape = {y_test.shape}')"
   ]
  },
  {
   "cell_type": "markdown",
   "metadata": {},
   "source": [
    "## Feature Scaling"
   ]
  },
  {
   "cell_type": "code",
   "execution_count": 9,
   "metadata": {},
   "outputs": [
    {
     "name": "stdout",
     "output_type": "stream",
     "text": [
      "x_train shape = (60000, 28, 28, 1)\n",
      "x_test shape = (10000, 28, 28, 1)\n"
     ]
    }
   ],
   "source": [
    "x_train = x_train/255.0\n",
    "x_test = x_test/255.0\n",
    "x_train, x_test = np.expand_dims(x_train, axis=-1), np.expand_dims(x_test, axis=-1)\n",
    "print(f'x_train shape = {x_train.shape}\\nx_test shape = {x_test.shape}')"
   ]
  },
  {
   "cell_type": "markdown",
   "metadata": {},
   "source": [
    "## Building CNN"
   ]
  },
  {
   "cell_type": "code",
   "execution_count": 11,
   "metadata": {},
   "outputs": [
    {
     "name": "stdout",
     "output_type": "stream",
     "text": [
      "Model: \"sequential\"\n",
      "_________________________________________________________________\n",
      "Layer (type)                 Output Shape              Param #   \n",
      "=================================================================\n",
      "conv2d (Conv2D)              (None, 26, 26, 64)        640       \n",
      "_________________________________________________________________\n",
      "conv2d_1 (Conv2D)            (None, 24, 24, 64)        36928     \n",
      "_________________________________________________________________\n",
      "max_pooling2d (MaxPooling2D) (None, 8, 8, 64)          0         \n",
      "_________________________________________________________________\n",
      "dropout (Dropout)            (None, 8, 8, 64)          0         \n",
      "_________________________________________________________________\n",
      "flatten (Flatten)            (None, 4096)              0         \n",
      "_________________________________________________________________\n",
      "dense (Dense)                (None, 250)               1024250   \n",
      "_________________________________________________________________\n",
      "dense_1 (Dense)              (None, 10)                2510      \n",
      "=================================================================\n",
      "Total params: 1,064,328\n",
      "Trainable params: 1,064,328\n",
      "Non-trainable params: 0\n",
      "_________________________________________________________________\n"
     ]
    }
   ],
   "source": [
    "model = Sequential()\n",
    "\n",
    "# Adding convolutional layers.\n",
    "model.add(Conv2D(\n",
    "            filters=64, \n",
    "            kernel_size=(3,3), \n",
    "            activation='relu',\n",
    "            input_shape=(28,28,1)\n",
    "         ))\n",
    "\n",
    "model.add(Conv2D(\n",
    "            filters=64,\n",
    "            kernel_size=(3,3),\n",
    "            activation='relu'\n",
    "         ))\n",
    "\n",
    "model.add(MaxPooling2D(\n",
    "            pool_size=(3,3)\n",
    "         ))\n",
    "\n",
    "model.add(Dropout(0.5))\n",
    "model.add(Flatten())\n",
    "\n",
    "# Passing the filtered convolutional layer to our ANN.\n",
    "model.add(Dense(250, activation='sigmoid'))\n",
    "model.add(Dense(10, activation='softmax'))\n",
    "\n",
    "model.compile(optimizer='adam', loss='sparse_categorical_crossentropy', metrics=['accuracy'])\n",
    "model.summary()"
   ]
  },
  {
   "cell_type": "code",
   "execution_count": 13,
   "metadata": {},
   "outputs": [
    {
     "name": "stdout",
     "output_type": "stream",
     "text": [
      "Epoch 1/5\n",
      "120/120 [==============================] - 52s 431ms/step - loss: 0.0550 - accuracy: 0.9844\n",
      "Epoch 2/5\n",
      "120/120 [==============================] - 52s 430ms/step - loss: 0.0454 - accuracy: 0.9868\n",
      "Epoch 3/5\n",
      "120/120 [==============================] - 50s 421ms/step - loss: 0.0387 - accuracy: 0.9891\n",
      "Epoch 4/5\n",
      "120/120 [==============================] - 50s 414ms/step - loss: 0.0339 - accuracy: 0.9905\n",
      "Epoch 5/5\n",
      "120/120 [==============================] - 50s 415ms/step - loss: 0.0294 - accuracy: 0.9916\n"
     ]
    },
    {
     "data": {
      "text/plain": [
       "<tensorflow.python.keras.callbacks.History at 0x1a30f84a790>"
      ]
     },
     "execution_count": 13,
     "metadata": {},
     "output_type": "execute_result"
    }
   ],
   "source": [
    "model.fit(x_train, y_train, epochs=5, batch_size=500) "
   ]
  },
  {
   "cell_type": "code",
   "execution_count": 14,
   "metadata": {},
   "outputs": [
    {
     "name": "stdout",
     "output_type": "stream",
     "text": [
      "313/313 [==============================] - 2s 8ms/step - loss: 0.0284 - accuracy: 0.9908\n",
      "[0.02843763679265976, 0.9908000230789185]\n"
     ]
    }
   ],
   "source": [
    "test_scores = model.evaluate(x_test, y_test)\n",
    "print(test_scores)"
   ]
  },
  {
   "cell_type": "code",
   "execution_count": 15,
   "metadata": {},
   "outputs": [
    {
     "name": "stdout",
     "output_type": "stream",
     "text": [
      "1875/1875 [==============================] - 15s 8ms/step - loss: 0.0168 - accuracy: 0.9960\n",
      "[0.01684420555830002, 0.9960166811943054]\n"
     ]
    }
   ],
   "source": [
    "train_scores = model.evaluate(x_train, y_train)\n",
    "print(train_scores)"
   ]
  },
  {
   "cell_type": "markdown",
   "metadata": {},
   "source": [
    "As we can see, testing accuracy came out to be 99.08% which is in agreement with training accuracy implying that our model does not overfit."
   ]
  },
  {
   "cell_type": "markdown",
   "metadata": {},
   "source": [
    "## Saving Model"
   ]
  },
  {
   "cell_type": "code",
   "execution_count": 16,
   "metadata": {},
   "outputs": [],
   "source": [
    "model.save('digits_cnn.h5')"
   ]
  }
 ],
 "metadata": {
  "kernelspec": {
   "display_name": "Python 3",
   "language": "python",
   "name": "python3"
  },
  "language_info": {
   "codemirror_mode": {
    "name": "ipython",
    "version": 3
   },
   "file_extension": ".py",
   "mimetype": "text/x-python",
   "name": "python",
   "nbconvert_exporter": "python",
   "pygments_lexer": "ipython3",
   "version": "3.8.4"
  }
 },
 "nbformat": 4,
 "nbformat_minor": 4
}
