{
 "cells": [
  {
   "cell_type": "markdown",
   "metadata": {},
   "source": [
    "# Mnist Handwritten Digits\n",
    "In this notebook, we will use deep learning algorithm (Deep Feed Forward Neural Network) to classify and predict the handwritten digits (MNIST). First we will use EDA and some visualizations to understand the data and then we will train the model. Finally,\n",
    "we will save the model so that it is ready to be used in an open world."
   ]
  },
  {
   "cell_type": "markdown",
   "metadata": {},
   "source": [
    "## Loading Libraries"
   ]
  },
  {
   "cell_type": "code",
   "execution_count": 1,
   "metadata": {},
   "outputs": [],
   "source": [
    "%matplotlib inline\n",
    "import matplotlib.pyplot as plt\n",
    "from keras.datasets import mnist\n",
    "from keras.models import Sequential\n",
    "from keras.layers import Dense \n",
    "from sklearn.model_selection import train_test_split"
   ]
  },
  {
   "cell_type": "markdown",
   "metadata": {},
   "source": [
    "## Exploratory Data Analysis"
   ]
  },
  {
   "cell_type": "code",
   "execution_count": 2,
   "metadata": {},
   "outputs": [],
   "source": [
    "(x_train, y_train) , (x_test, y_test) = mnist.load_data()"
   ]
  },
  {
   "cell_type": "code",
   "execution_count": 3,
   "metadata": {},
   "outputs": [
    {
     "name": "stdout",
     "output_type": "stream",
     "text": [
      "x_train shape = (60000, 28, 28)\n",
      "x_test shape = (10000, 28, 28)\n",
      "y_train shape = (60000,)\n",
      "y_test shape = (10000,)\n"
     ]
    }
   ],
   "source": [
    "print(f'x_train shape = {x_train.shape}\\nx_test shape = {x_test.shape}\\ny_train shape = {y_train.shape}\\ny_test shape = {y_test.shape}')"
   ]
  },
  {
   "cell_type": "markdown",
   "metadata": {},
   "source": [
    "## Visualization"
   ]
  },
  {
   "cell_type": "code",
   "execution_count": 5,
   "metadata": {},
   "outputs": [
    {
     "data": {
      "image/png": "[encoded data removed]",
      "text/plain": [
       "<Figure size 432x288 with 9 Axes>"
      ]
     },
     "metadata": {
      "needs_background": "light"
     },
     "output_type": "display_data"
    }
   ],
   "source": [
    "fig = plt.figure()\n",
    "for i in range(9):\n",
    "    plt.subplot(3,3,i+1)\n",
    "    plt.tight_layout()\n",
    "    plt.imshow(x_train[i], cmap='gray')\n",
    "    plt.title(f'Digit: {y_train[i]}')\n",
    "\n",
    "plt.show()"
   ]
  },
  {
   "cell_type": "markdown",
   "metadata": {},
   "source": [
    "Hence, these are the nine catgories of digits that we have in our dataset."
   ]
  },
  {
   "cell_type": "markdown",
   "metadata": {},
   "source": [
    "## Feature Scaling "
   ]
  },
  {
   "cell_type": "code",
   "execution_count": 6,
   "metadata": {},
   "outputs": [
    {
     "name": "stdout",
     "output_type": "stream",
     "text": [
      "Train matrix shape (60000, 784)\n",
      "Test matrix shape (10000, 784)\n"
     ]
    }
   ],
   "source": [
    "x_train = x_train.reshape(60000, 784)\n",
    "x_test = x_test.reshape(10000, 784)\n",
    "x_train = x_train.astype('float32')\n",
    "x_test = x_test.astype('float32')\n",
    "\n",
    "# Scaling/normalizing the data to help with the training.\n",
    "x_train /= 255\n",
    "x_test /= 255\n",
    "\n",
    "\n",
    "print(\"Train matrix shape\", x_train.shape)\n",
    "print(\"Test matrix shape\", x_test.shape)"
   ]
  },
  {
   "cell_type": "markdown",
   "metadata": {},
   "source": [
    "## Building And Training The Model"
   ]
  },
  {
   "cell_type": "code",
   "execution_count": 7,
   "metadata": {},
   "outputs": [
    {
     "name": "stdout",
     "output_type": "stream",
     "text": [
      "Model: \"sequential\"\n",
      "_________________________________________________________________\n",
      "Layer (type)                 Output Shape              Param #   \n",
      "=================================================================\n",
      "dense (Dense)                (None, 512)               401920    \n",
      "_________________________________________________________________\n",
      "dense_1 (Dense)              (None, 512)               262656    \n",
      "_________________________________________________________________\n",
      "dense_2 (Dense)              (None, 10)                5130      \n",
      "=================================================================\n",
      "Total params: 669,706\n",
      "Trainable params: 669,706\n",
      "Non-trainable params: 0\n",
      "_________________________________________________________________\n"
     ]
    }
   ],
   "source": [
    "model = Sequential()\n",
    "\n",
    "# Building the layers.\n",
    "model.add(Dense(units=512, input_dim=784, activation='relu'))\n",
    "model.add(Dense(units=512, activation='relu'))\n",
    "model.add(Dense(10, activation='softmax'))\n",
    "\n",
    "# Compiling the model.\n",
    "model.compile(optimizer='adam', loss='sparse_categorical_crossentropy', metrics=['accuracy'])\n",
    "\n",
    "# Summary of the model.\n",
    "model.summary()"
   ]
  },
  {
   "cell_type": "code",
   "execution_count": 8,
   "metadata": {},
   "outputs": [
    {
     "name": "stdout",
     "output_type": "stream",
     "text": [
      "Epoch 1/15\n",
      "469/469 [==============================] - 3s 6ms/step - loss: 0.2188 - accuracy: 0.9352\n",
      "Epoch 2/15\n",
      "469/469 [==============================] - 3s 5ms/step - loss: 0.0773 - accuracy: 0.9759\n",
      "Epoch 3/15\n",
      "469/469 [==============================] - 3s 5ms/step - loss: 0.0503 - accuracy: 0.9840\n",
      "Epoch 4/15\n",
      "469/469 [==============================] - 3s 5ms/step - loss: 0.0359 - accuracy: 0.9883\n",
      "Epoch 5/15\n",
      "469/469 [==============================] - 3s 5ms/step - loss: 0.0257 - accuracy: 0.9917\n",
      "Epoch 6/15\n",
      "469/469 [==============================] - 3s 5ms/step - loss: 0.0237 - accuracy: 0.9923\n",
      "Epoch 7/15\n",
      "469/469 [==============================] - 3s 6ms/step - loss: 0.0179 - accuracy: 0.9940\n",
      "Epoch 8/15\n",
      "469/469 [==============================] - 3s 6ms/step - loss: 0.0196 - accuracy: 0.9934\n",
      "Epoch 9/15\n",
      "469/469 [==============================] - 3s 6ms/step - loss: 0.0153 - accuracy: 0.9952\n",
      "Epoch 10/15\n",
      "469/469 [==============================] - 3s 6ms/step - loss: 0.0112 - accuracy: 0.9962\n",
      "Epoch 11/15\n",
      "469/469 [==============================] - 3s 5ms/step - loss: 0.0122 - accuracy: 0.9961\n",
      "Epoch 12/15\n",
      "469/469 [==============================] - 3s 6ms/step - loss: 0.0140 - accuracy: 0.9954\n",
      "Epoch 13/15\n",
      "469/469 [==============================] - 3s 7ms/step - loss: 0.0105 - accuracy: 0.9967\n",
      "Epoch 14/15\n",
      "469/469 [==============================] - 3s 6ms/step - loss: 0.0062 - accuracy: 0.9980\n",
      "Epoch 15/15\n",
      "469/469 [==============================] - 3s 6ms/step - loss: 0.0113 - accuracy: 0.9961\n"
     ]
    }
   ],
   "source": [
    "# Fitting and training the model.\n",
    "hist = model.fit(x_train, y_train, batch_size=128, epochs=15)"
   ]
  },
  {
   "cell_type": "code",
   "execution_count": 9,
   "metadata": {},
   "outputs": [
    {
     "name": "stdout",
     "output_type": "stream",
     "text": [
      "313/313 [==============================] - 0s 1ms/step - loss: 0.0927 - accuracy: 0.9798\n",
      "[0.0927465409040451, 0.9797999858856201]\n"
     ]
    }
   ],
   "source": [
    "testing_result = model.evaluate(x_test, y_test)\n",
    "print(testing_result)"
   ]
  },
  {
   "cell_type": "code",
   "execution_count": 10,
   "metadata": {},
   "outputs": [
    {
     "name": "stdout",
     "output_type": "stream",
     "text": [
      "1875/1875 [==============================] - 2s 1ms/step - loss: 0.0087 - accuracy: 0.9972\n",
      "[0.008652949705719948, 0.9972166419029236]\n"
     ]
    }
   ],
   "source": [
    "training_evaluation = model.evaluate(x_train, y_train)\n",
    "print(training_evaluation)"
   ]
  },
  {
   "cell_type": "markdown",
   "metadata": {},
   "source": [
    "Here, our both our training and testing accuracies are quite commendable. Hence, we can save our model and this model can be used in our app for predicting the handwritten digits.\n"
   ]
  },
  {
   "cell_type": "markdown",
   "metadata": {},
   "source": [
    "## Saving The Model"
   ]
  },
  {
   "cell_type": "code",
   "execution_count": 11,
   "metadata": {},
   "outputs": [],
   "source": [
    "model.save('handwritten_model.h5')"
   ]
  },
  {
   "cell_type": "markdown",
   "metadata": {},
   "source": [
    "Therefore, we have saved our model and now it is ready to be used in any application."
   ]
  }
 ],
 "metadata": {
  "kernelspec": {
   "display_name": "Python 3",
   "language": "python",
   "name": "python3"
  },
  "language_info": {
   "codemirror_mode": {
    "name": "ipython",
    "version": 3
   },
   "file_extension": ".py",
   "mimetype": "text/x-python",
   "name": "python",
   "nbconvert_exporter": "python",
   "pygments_lexer": "ipython3",
   "version": "3.8.0"
  }
 },
 "nbformat": 4,
 "nbformat_minor": 4
}
